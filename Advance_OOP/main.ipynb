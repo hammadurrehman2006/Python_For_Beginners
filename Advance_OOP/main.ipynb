{
 "cells": [
  {
   "cell_type": "markdown",
   "metadata": {},
   "source": [
    "# Advanced OOP"
   ]
  },
  {
   "cell_type": "code",
   "execution_count": null,
   "metadata": {},
   "outputs": [],
   "source": [
    "from abc import ABC, abstractmethod\n",
    "\n",
    "class Person(ABC):\n",
    "    def __init__(self, name, age):\n",
    "        self.name = name\n",
    "        self.age = age\n",
    "        \n",
    "    \n",
    "    def work(self):\n",
    "        print(\"Q nhi horahi parhai!\") \n",
    "    \n",
    "    def greet(self):\n",
    "        print(\"Han bhai to kia haal he bhaiya!\")"
   ]
  },
  {
   "cell_type": "code",
   "execution_count": null,
   "metadata": {},
   "outputs": [],
   "source": [
    "class Student(Person):\n",
    "    def __init__(self, name: str, age: int, std_id: str) -> None:\n",
    "        super().__init__(name, age)\n",
    "        self.std_id = std_id\n",
    "        \n",
    "    def greet(self):\n",
    "        print(\"Qoum Mulk sunsilk Bhai Dada Zindabad\")\n",
    "\n",
    "        \n",
    "# s1 = Student(\"Muhammad Hammad ur Rehman\", 19, \"ME-24141\")\n",
    "# s1.greet()\n",
    "# s1.work()"
   ]
  },
  {
   "cell_type": "code",
   "execution_count": null,
   "metadata": {},
   "outputs": [],
   "source": [
    "class Teacher:\n",
    "    def __init__(self, name: str, age: int, tch_id: str):\n",
    "        self.name = name\n",
    "        self.age = age\n",
    "        self.tch_id = tch_id\n",
    "        \n",
    "    def greet():\n",
    "        print(\"Students! What we have discussed in the last class?\")\n",
    "    \n",
    "    def work():\n",
    "        print(\"Asking if they learnt sth new today?\")"
   ]
  },
  {
   "cell_type": "code",
   "execution_count": 14,
   "metadata": {},
   "outputs": [
    {
     "data": {
      "text/plain": [
       "[__main__.SeniorStudent,\n",
       " __main__.Student,\n",
       " __main__.Person,\n",
       " abc.ABC,\n",
       " __main__.Teacher,\n",
       " object]"
      ]
     },
     "execution_count": 14,
     "metadata": {},
     "output_type": "execute_result"
    }
   ],
   "source": [
    "class SeniorStudent(Student, Teacher):\n",
    "    \n",
    "    def __init__(self, name: str, age: int, std_id: str, tch_id: str, slot: str):\n",
    "        Student.__init__(self, name, age, std_id)\n",
    "        Teacher.__init__(self, name, age, tch_id)\n",
    "        self.slot = slot\n",
    "        \n",
    "    # def greet(self):\n",
    "    #     print(\"Ji bhai kia problem he aapko?\")\n",
    "        \n",
    "    # def work(self):\n",
    "    #     print(\"Problem Solver!\")\n",
    "    \n",
    "student = SeniorStudent(\"Muhammad Hammad ur Rehman\", 18, \"3197\", \"3917\", \"sat-7-10\")\n",
    "SeniorStudent.mro()"
   ]
  },
  {
   "cell_type": "code",
   "execution_count": 21,
   "metadata": {},
   "outputs": [
    {
     "name": "stdout",
     "output_type": "stream",
     "text": [
      "Han bhai to kia haal he bhaiya! Mein hoon Muhammad Hammad ur Rehman, or aaj mein aya hua hoon Civil Lines k area mein\n",
      "Han bhai to kia haal he bhaiya! Mein hoon Shahid, or aaj mein aya hua hoon Karachi k area mein\n",
      "Self --->   <__main__.Person object at 0x000001A0C2BA4590>\n",
      "other--->   <__main__.Person object at 0x000001A0C37E9C90>\n",
      "None\n"
     ]
    }
   ],
   "source": [
    "class Person(ABC):\n",
    "    def __init__(self, name: str, age: int, locat: str):\n",
    "        self.name = name\n",
    "        self.locat = locat\n",
    "        self.age = age\n",
    "        \n",
    "    def greet(self):\n",
    "        print(f\"Han bhai to kia haal he bhaiya! Mein hoon {self.name}, or aaj mein aya hua hoon {self.locat} k area mein\")\n",
    "        \n",
    "    def __add__(self,other):\n",
    "        # print(\"Self --->  \", self)  # Self --->   <__main__.Person object at 0x000001A0C37E9C90>\n",
    "        # print(\"other--->  \", other) # other--->   <__main__.Person object at 0x000001A0C3873B50>\n",
    "        \n",
    "person1 = Person(\"Muhammad Hammad ur Rehman\", 19, \"Civil Lines\")\n",
    "person2 = Person(\"Shahid\", 45, \"Karachi\")\n",
    "person1.greet()\n",
    "person2.greet()\n",
    "combined_person = person1 + person2\n"
   ]
  }
 ],
 "metadata": {
  "kernelspec": {
   "display_name": "Python 3",
   "language": "python",
   "name": "python3"
  },
  "language_info": {
   "codemirror_mode": {
    "name": "ipython",
    "version": 3
   },
   "file_extension": ".py",
   "mimetype": "text/x-python",
   "name": "python",
   "nbconvert_exporter": "python",
   "pygments_lexer": "ipython3",
   "version": "3.11.9"
  }
 },
 "nbformat": 4,
 "nbformat_minor": 2
}
