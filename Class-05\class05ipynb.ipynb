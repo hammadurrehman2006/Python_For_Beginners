{
  "nbformat": 4,
  "nbformat_minor": 0,
  "metadata": {
    "colab": {
      "provenance": [],
      "authorship_tag": "ABX9TyPlJ8kBfAEioLXsHamKmFTL",
      "include_colab_link": true
    },
    "kernelspec": {
      "name": "python3",
      "display_name": "Python 3"
    },
    "language_info": {
      "name": "python"
    }
  },
  "cells": [
    {
      "cell_type": "markdown",
      "metadata": {
        "id": "view-in-github",
        "colab_type": "text"
      },
      "source": [
        "<a href=\"https://colab.research.google.com/github/hammadurrehman2006/Python_For_Beginners/blob/main/Class-05%5Cclass05ipynb.ipynb\" target=\"_parent\"><img src=\"https://colab.research.google.com/assets/colab-badge.svg\" alt=\"Open In Colab\"/></a>"
      ]
    },
    {
      "cell_type": "code",
      "source": [
        "number: complex = 2 + 5j\n",
        "print(\"Number -> \",number)\n",
        "print(\"Type of Number -> \", type(number))\n",
        "print(\"Real Part -> \", number.real)\n",
        "print(\"Imaginary Part -> \", number.imag)\n"
      ],
      "metadata": {
        "colab": {
          "base_uri": "https://localhost:8080/"
        },
        "id": "c9ElKpgMYgzC",
        "outputId": "6f0ddb31-899c-4b6f-9069-871d7a762bc8"
      },
      "execution_count": null,
      "outputs": [
        {
          "output_type": "stream",
          "name": "stdout",
          "text": [
            "Number ->  (2+5j)\n",
            "Type of Number ->  <class 'complex'>\n",
            "Real Part ->  2.0\n",
            "Imaginary Part ->  5.0\n"
          ]
        }
      ]
    },
    {
      "cell_type": "markdown",
      "source": [],
      "metadata": {
        "id": "fjfTd2AHZMvi"
      }
    },
    {
      "cell_type": "code",
      "source": [
        "binary_number = bin(10)\n",
        "print(\"Binary Number -> \", binary_number)\n",
        "print(\"Type of Binary Number -> \", type(binary_number))"
      ],
      "metadata": {
        "colab": {
          "base_uri": "https://localhost:8080/"
        },
        "id": "ksU1RgJ9ZCI0",
        "outputId": "72cbb7d1-cd11-4851-9f28-036c65c67ce5"
      },
      "execution_count": null,
      "outputs": [
        {
          "output_type": "stream",
          "name": "stdout",
          "text": [
            "Binary Number ->  0b1010\n",
            "Type of Binary Number ->  <class 'str'>\n"
          ]
        }
      ]
    },
    {
      "cell_type": "code",
      "source": [
        "with open(\"test.txt\", \"rb\") as binary_file:\n",
        "    binary_data = binary_file.read()\n",
        "    print(\"Binary Data -> \", binary_data)"
      ],
      "metadata": {
        "colab": {
          "base_uri": "https://localhost:8080/"
        },
        "id": "iZzQOSzRZNbr",
        "outputId": "5339a37b-cf2a-4660-ef30-a8b112c2ac48"
      },
      "execution_count": null,
      "outputs": [
        {
          "output_type": "stream",
          "name": "stdout",
          "text": [
            "Binary Data ->  b'Hello World Eid mubarak to all'\n"
          ]
        }
      ]
    },
    {
      "cell_type": "code",
      "source": [
        "list1 = [1, 2, 3, 4, 5]\n",
        "list2 = [6, 7, 8, 9, 10]\n",
        "list3 = list1\n",
        "print(\"Id of 1st list \",id(list1))\n",
        "print(\"Id of 2nd list \",id(list2))\n",
        "print(\"Id of 3rd list \",id(list3))\n",
        "print(\"list1 == list2 -> \", list1 == list2)\n",
        "print(\"list1 == list3 -> \", list1 == list3)\n"
      ],
      "metadata": {
        "colab": {
          "base_uri": "https://localhost:8080/"
        },
        "id": "zAvq_iHsbGtj",
        "outputId": "f7c54ee5-5ddf-400e-c0d4-7193ff204e60"
      },
      "execution_count": null,
      "outputs": [
        {
          "output_type": "stream",
          "name": "stdout",
          "text": [
            "135512214037440\n",
            "135512215909120\n",
            "135512214037440\n"
          ]
        }
      ]
    },
    {
      "cell_type": "code",
      "source": [
        "import sys\n",
        "\n",
        "name_one = sys.intern(\"Muhammad Hammad ur Rehman\")\n",
        "name_two = sys.intern(\"Muhammad Hammad ur Rehman\")\n",
        "print(name_one is name_two)"
      ],
      "metadata": {
        "id": "BAIr3QVUeQv9"
      },
      "execution_count": null,
      "outputs": []
    },
    {
      "cell_type": "markdown",
      "source": [],
      "metadata": {
        "id": "KMr5AGfdeQeY"
      }
    },
    {
      "cell_type": "code",
      "source": [
        "def rishta(income:int):\n",
        "  match income:\n",
        "    case 200000:\n",
        "      print(\"Baat Pakki.\")\n",
        "    case 150000:\n",
        "      print(\"Istekhara krte hen.\")\n",
        "    case 100000:\n",
        "      print(\"Cast se bahir nhi krte.\")\n",
        "    case _:\n",
        "      print(\"Better Luck Go Somewhere else\")\n",
        "#testing\n",
        "rishta(150000)\n",
        "rishta(50000)\n"
      ],
      "metadata": {
        "id": "m6mXZK_Ge98b",
        "colab": {
          "base_uri": "https://localhost:8080/"
        },
        "outputId": "f681e9c6-f697-4979-b7e2-0905dbb39e53"
      },
      "execution_count": 8,
      "outputs": [
        {
          "output_type": "stream",
          "name": "stdout",
          "text": [
            "Istekhara krte hen.\n",
            "Better Luck Go Somewhere else\n"
          ]
        }
      ]
    }
  ]
}