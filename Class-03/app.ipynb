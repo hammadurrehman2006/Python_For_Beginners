{
 "cells": [
  {
   "cell_type": "code",
   "execution_count": 13,
   "metadata": {},
   "outputs": [
    {
     "name": "stdout",
     "output_type": "stream",
     "text": [
      "Ramadan Mubarak\n"
     ]
    }
   ],
   "source": [
    "message = \"Ramadan Mubarak\"\n",
    "print(message)"
   ]
  },
  {
   "cell_type": "markdown",
   "metadata": {},
   "source": [
    "# Methods in python\n",
    "## String methods\n",
    "1. upper\n",
    "2. lower\n",
    "3. title\n",
    "4. len\n",
    "5. capitalize\n",
    "6. count\n",
    "7. find\n",
    "8. index\n",
    "9. replace\n",
    "10. split\n",
    "11. join\n",
    "12. strip\n",
    "13. lstrip\n",
    "14. rstrip\n"
   ]
  },
  {
   "cell_type": "code",
   "execution_count": 14,
   "metadata": {},
   "outputs": [
    {
     "name": "stdout",
     "output_type": "stream",
     "text": [
      "MUHAMMAD HAMMAD UR REHMAN\n",
      "muhammad hammad ur rehman\n",
      "Muhammad hammad ur rehman\n",
      "Muhammad hammad ur rehman\n",
      "Muhammad Hammad Ur Rehman\n",
      "25\n",
      "5\n",
      "16\n",
      "16\n",
      "Muhammad Hammad-ur-Rehman\n",
      "['Muhammad', 'Hammad', 'ur', 'Rehman']\n",
      "<class 'str'>\n"
     ]
    }
   ],
   "source": [
    "name = \"Muhammad Hammad ur Rehman\"\n",
    "print(name.upper())\n",
    "\n",
    "print(name.lower())\n",
    "\n",
    "print(name.capitalize())\n",
    "\n",
    "print(name.capitalize())\n",
    "\n",
    "print(name.title())\n",
    "\n",
    "print(len(name))\n",
    "\n",
    "print(name.count(\"a\"))\n",
    "\n",
    "print(name.find(\"ur\"))\n",
    "\n",
    "print(name.index(\"ur\"))\n",
    "\n",
    "print(name.replace(\" ur \", \"-ur-\"))\n",
    "\n",
    "print(name.split())\n",
    "\n",
    "print(type(name))\n"
   ]
  },
  {
   "cell_type": "code",
   "execution_count": 15,
   "metadata": {},
   "outputs": [
    {
     "name": "stdout",
     "output_type": "stream",
     "text": [
      "am I testing the code or the code is testing me?\n"
     ]
    }
   ],
   "source": [
    "test = \"  am I testing the code or the code is testing me?  \"\n",
    "print(test.strip())"
   ]
  },
  {
   "cell_type": "code",
   "execution_count": 16,
   "metadata": {},
   "outputs": [
    {
     "name": "stdout",
     "output_type": "stream",
     "text": [
      "Eid-ul-Fitr Mubarak\n"
     ]
    }
   ],
   "source": [
    "#When Ramadan Ends the Eid will begin\n",
    "print(message.replace(\"Ramadan\",\"Eid-ul-Fitr\"))"
   ]
  },
  {
   "cell_type": "code",
   "execution_count": 20,
   "metadata": {},
   "outputs": [
    {
     "name": "stdout",
     "output_type": "stream",
     "text": [
      "['Jan', ' Feb', ' Mar', ' Apr', ' May', ' Jun', ' Jul', ' Aug', ' Sep', ' Oct', ' Nov', ' Dec']\n",
      "MRamadanuRamadanbRamadanaRamadanrRamadanaRamadank\n"
     ]
    }
   ],
   "source": [
    "months = \"Jan, Feb, Mar, Apr, May, Jun, Jul, Aug, Sep, Oct, Nov, Dec\"\n",
    "print(months.split(\",\"))\n",
    "first = \"Ramadan\"\n",
    "last = \"Mubarak\"\n",
    "print(first.join(last))\n"
   ]
  }
 ],
 "metadata": {
  "kernelspec": {
   "display_name": "Python 3",
   "language": "python",
   "name": "python3"
  },
  "language_info": {
   "codemirror_mode": {
    "name": "ipython",
    "version": 3
   },
   "file_extension": ".py",
   "mimetype": "text/x-python",
   "name": "python",
   "nbconvert_exporter": "python",
   "pygments_lexer": "ipython3",
   "version": "3.11.9"
  }
 },
 "nbformat": 4,
 "nbformat_minor": 2
}
