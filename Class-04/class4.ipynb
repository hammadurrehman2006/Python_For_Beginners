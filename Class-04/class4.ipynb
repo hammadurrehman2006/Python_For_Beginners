{
  "nbformat": 4,
  "nbformat_minor": 0,
  "metadata": {
    "colab": {
      "provenance": [],
      "authorship_tag": "ABX9TyOQXYtXBL7ScN5WZ37FboyY",
      "include_colab_link": true
    },
    "kernelspec": {
      "name": "python3",
      "display_name": "Python 3"
    },
    "language_info": {
      "name": "python"
    }
  },
  "cells": [
    {
      "cell_type": "markdown",
      "metadata": {
        "id": "view-in-github",
        "colab_type": "text"
      },
      "source": [
        "<a href=\"https://colab.research.google.com/github/hammadurrehman2006/Python_For_Beginners/blob/main/Class-04/class4.ipynb\" target=\"_parent\"><img src=\"https://colab.research.google.com/assets/colab-badge.svg\" alt=\"Open In Colab\"/></a>"
      ]
    },
    {
      "cell_type": "markdown",
      "source": [
        "#Recursive Functions"
      ],
      "metadata": {
        "id": "CtDBwKAWQ2xA"
      }
    },
    {
      "cell_type": "markdown",
      "source": [],
      "metadata": {
        "id": "ImrqDPu2W3Og"
      }
    },
    {
      "cell_type": "code",
      "execution_count": null,
      "metadata": {
        "id": "3XC08noWQwO4"
      },
      "outputs": [],
      "source": [
        "def count_down(num):\n",
        "  if num <= 0:\n",
        "    print(\"All done\")\n",
        "    return\n",
        "  else:\n",
        "    print(num)\n",
        "    count_down(num-1)\n",
        "count_down(10)"
      ]
    },
    {
      "cell_type": "markdown",
      "source": [
        "#OS-Module"
      ],
      "metadata": {
        "id": "YZiBKBK7Sz2M"
      }
    },
    {
      "cell_type": "code",
      "source": [
        "import os\n",
        "# to get current working directory (cwd)\n",
        "print(\"Current working directory --> \",os.getcwd())\n",
        "# to get list of directories\n",
        "print(\"Directories in current directory --> \",os.listdir())\n",
        "# make a new directory\n",
        "os.mkdir(\"new_dir\")\n",
        "#rename directory\n",
        "os.rename(\"new_dir\",\"new_dir_renamed\")\n",
        "# remove a directory\n",
        "os.rmdir(\"new_dir_renamed\")\n",
        "\n",
        "os.mkdir(\"for_shutil\")\n"
      ],
      "metadata": {
        "id": "36DglmZrRUDE"
      },
      "execution_count": null,
      "outputs": []
    },
    {
      "cell_type": "markdown",
      "source": [
        "##Bonus Topic: Shutil module"
      ],
      "metadata": {
        "id": "t2m1051ZW5AE"
      }
    },
    {
      "cell_type": "code",
      "source": [
        "import shutil\n",
        "#remove whole directory\n",
        "shutil.rmtree(\"for_shutil\")"
      ],
      "metadata": {
        "id": "my1TSrbLXCko"
      },
      "execution_count": 14,
      "outputs": []
    },
    {
      "cell_type": "code",
      "source": [
        "#making a directory\n",
        "os.mkdir(\"test_dir\")\n",
        "#moving to next dir\n",
        "#os.chdir(\"test_dir\")\n",
        "print(os.getcwd())"
      ],
      "metadata": {
        "id": "lKF3Z0a2Yp7T"
      },
      "execution_count": null,
      "outputs": []
    },
    {
      "cell_type": "markdown",
      "source": [
        "#File I/O"
      ],
      "metadata": {
        "id": "X3dHp85PZ396"
      }
    },
    {
      "cell_type": "markdown",
      "source": [],
      "metadata": {
        "id": "cQTAR3RJYpeN"
      }
    },
    {
      "cell_type": "code",
      "source": [
        "#working with file\n",
        "#creating a new file\n",
        "file = open(\"page.txt\",\"w\")\n",
        "#writing text in file\n",
        "file.write(\"Hello World!. Eid Mubarak\")\n",
        "#After opening a file when the task is done it must be closed\n",
        "file.close()\n",
        "# opening a file to read its content\n",
        "file = open(\"page.txt\",\"r\")\n",
        "print(file.read())\n",
        "file.close()"
      ],
      "metadata": {
        "colab": {
          "base_uri": "https://localhost:8080/"
        },
        "id": "GvqJEfStZ6C8",
        "outputId": "b0f3f8d9-8c3b-46d4-8a60-da7acef6ddcc"
      },
      "execution_count": 1,
      "outputs": [
        {
          "output_type": "stream",
          "name": "stdout",
          "text": [
            "Hello World\n"
          ]
        }
      ]
    },
    {
      "cell_type": "markdown",
      "source": [
        "###again opening same file to write"
      ],
      "metadata": {
        "id": "bW15DXP-a0ji"
      }
    },
    {
      "cell_type": "code",
      "source": [
        "file = open(\"page.txt\", \"w\")\n",
        "file.write(\"Hen? Eid kab aayi!\")\n",
        "file.close()\n",
        "file = open(\"page.txt\",\"r\")\n",
        "content = file.read()\n",
        "file.close()\n",
        "print(content)"
      ],
      "metadata": {
        "colab": {
          "base_uri": "https://localhost:8080/"
        },
        "id": "_98FhxsIa0MV",
        "outputId": "ad7375c5-cfe0-43d0-e750-002955e29408"
      },
      "execution_count": 2,
      "outputs": [
        {
          "output_type": "stream",
          "name": "stdout",
          "text": [
            "Hen? Eid kab aayi!\n"
          ]
        }
      ]
    },
    {
      "cell_type": "markdown",
      "source": [
        "###Have you noticed sth?\n",
        "###the previous text was not printed\n",
        "###because whenever we open a file again for write it remove the previous content.\n",
        "### to prevent this we use append mode \"p\""
      ],
      "metadata": {
        "id": "sjwNNyifbZNK"
      }
    },
    {
      "cell_type": "code",
      "source": [
        "\n",
        "file = open(\"page.txt\", \"a\")\n",
        "file.write(\"\\nRamzan k baad ayi he Eid \")\n",
        "file.close()\n",
        "file = open(\"page.txt\",\"r\")\n",
        "content = file.read()\n",
        "file.close()\n",
        "print(content)\n"
      ],
      "metadata": {
        "colab": {
          "base_uri": "https://localhost:8080/"
        },
        "id": "gLIIYc0Wbb6N",
        "outputId": "c9116b84-c60f-4f04-8186-bad7775a7d9c"
      },
      "execution_count": 3,
      "outputs": [
        {
          "output_type": "stream",
          "name": "stdout",
          "text": [
            "Hen? Eid kab aayi!\n",
            "Ramzan k baad ayi he Eid \n"
          ]
        }
      ]
    },
    {
      "cell_type": "markdown",
      "source": [
        "###Have you tired closing files again and again?\n",
        "###no problem! we have the solution using with keyword"
      ],
      "metadata": {
        "id": "iPX1kjg_dD_S"
      }
    },
    {
      "cell_type": "code",
      "source": [
        "# prompt: open the file with with keyword and append achaaa ab samjha\n",
        "\n",
        "with open(\"page.txt\", \"a\") as file:\n",
        "  file.write(\"\\nachaaa ab samjha\")\n"
      ],
      "metadata": {
        "id": "aKtHpJ15dPbO"
      },
      "execution_count": null,
      "outputs": []
    },
    {
      "cell_type": "markdown",
      "source": [
        "#List comprehension"
      ],
      "metadata": {
        "id": "S4jNwJ-udmfp"
      }
    },
    {
      "cell_type": "code",
      "source": [
        "# normal method\n",
        "numbers = [1,2,3,4,5,6,7,8,9,10]\n",
        "sqr_numbers = []\n",
        "#for num in numbers:\n",
        " # sqr_num = num**2\n",
        "  #sqr_numbers.append(sqr_num)\n",
        "#print(sqr_numbers)\n",
        "\n",
        "#list comprehension\n",
        "# for square of numbers\n",
        "sqr_numbers = [num**2 for num in numbers]\n",
        "print(sqr_numbers)\n",
        "# for only even numbers\n",
        "even_numbers = [num for num in numbers if num%2==0]\n",
        "print(even_numbers)\n",
        "\n"
      ],
      "metadata": {
        "colab": {
          "base_uri": "https://localhost:8080/"
        },
        "id": "fFslkkTKdtwM",
        "outputId": "8a844357-89f4-45e3-ee46-a3eace38be4e"
      },
      "execution_count": 7,
      "outputs": [
        {
          "output_type": "stream",
          "name": "stdout",
          "text": [
            "[1, 4, 9, 16, 25, 36, 49, 64, 81, 100]\n",
            "[2, 4, 6, 8, 10]\n"
          ]
        }
      ]
    }
  ]
}