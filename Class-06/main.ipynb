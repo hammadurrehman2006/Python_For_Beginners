{
 "cells": [
  {
   "cell_type": "markdown",
   "metadata": {},
   "source": [
    "## OOP (Object Oriented Programming)"
   ]
  },
  {
   "cell_type": "code",
   "execution_count": 3,
   "metadata": {},
   "outputs": [
    {
     "name": "stdout",
     "output_type": "stream",
     "text": [
      "Muhammad Hammad ur Rehman\n",
      "18\n",
      "135\n",
      "Tha lekin bhag gaya\n",
      "21\n",
      "50936\n"
     ]
    }
   ],
   "source": [
    "class Student:\n",
    "    def __init__(self, name, age, rollNo):\n",
    "        self.name = name\n",
    "        self.age = age\n",
    "        self.__rollNo = rollNo # private variable __ is called access specifier\n",
    "\n",
    "    def __str__(self):\n",
    "        return f\"Student(name={self.name}, age={self.age}, rollNo={self.rollNo})\"\n",
    "    \n",
    "    def get_rollNo(self):\n",
    "        return self.__rollNo\n",
    "    \n",
    "    def __transportation_method(self,destination):\n",
    "        if (destination == \"uni to home\" || destination == \"home to uni\"):\n",
    "            return \"Bus\"\n",
    "        elif destination == \"Masjid to home\" || destination == \"home to masjid\":\n",
    "            return \"On Foot\"\n",
    "        else :\n",
    "            return \"Someone's Bike or Bykea\"\n",
    "    \n",
    "    def commute():\n",
    "        destination = input(\"Enter your destination: \")\n",
    "        print(f\"Your transportation method is: {self.__transportation_method(destination)}\")\n",
    "        return self.__transportation_method(destination)\n",
    "        \n",
    "    \n",
    "Student1 = Student(\"Muhammad Hammad ur Rehman\", 18, 135)\n",
    "print(Student1.name)\n",
    "print(Student1.age)\n",
    "print(Student1._Student__rollNo)  # Accessing private variable using name mangling\n",
    "\n",
    "\n",
    "Student2 = Student(\"Tha lekin bhag gaya\", 21, 50936)\n",
    "print(Student2.name)\n",
    "print(Student2.age)\n",
    "print(Student2._Student__rollNo)  # Accessing private variable using name mangling"
   ]
  },
  {
   "cell_type": "markdown",
   "metadata": {},
   "source": [
    "## 4 pillars of OOP\n",
    "1- Abstraction  \n",
    "2- Encapsulation  \n",
    "3- Inheritance  \n",
    "4- Polymorphism  "
   ]
  },
  {
   "cell_type": "markdown",
   "metadata": {},
   "source": [
    "#  Encapsulation  \n",
    "Encapsulation means hiding the internal details of how something works and only exposing what is necessary.  \n",
    "It bundles data (variables) and methods (functions) that work on that data into one unit — a class."
   ]
  },
  {
   "cell_type": "code",
   "execution_count": null,
   "metadata": {},
   "outputs": [],
   "source": [
    "class Car:\n",
    "    def __init__(self, brand):\n",
    "        self.__brand = brand   # private attribute (note the double underscore)\n",
    "\n",
    "    def get_brand(self):\n",
    "        return self.__brand   # controlled access\n",
    "    \n",
    "    def set_brand(self, brand):\n",
    "        self.__brand = brand\n",
    "\n",
    "my_car = Car(\"Toyota\")\n",
    "print(my_car.get_brand())  # Accessing safely\n"
   ]
  },
  {
   "cell_type": "markdown",
   "metadata": {},
   "source": [
    "## Abstraction  \n",
    "Abstraction means showing only the necessary details and hiding the complexity.  \n",
    "You interact with simple interfaces without worrying about how things work behind the scenes."
   ]
  },
  {
   "cell_type": "code",
   "execution_count": 5,
   "metadata": {},
   "outputs": [
    {
     "name": "stdout",
     "output_type": "stream",
     "text": [
      "Bark!\n"
     ]
    }
   ],
   "source": [
    "from abc import ABC, abstractmethod\n",
    "\n",
    "class Animal(ABC):\n",
    "    @abstractmethod\n",
    "    def make_sound(self):\n",
    "        pass\n",
    "\n",
    "class Dog(Animal):\n",
    "    def make_sound(self):\n",
    "        print(\"Bark!\")\n",
    "\n",
    "dog = Dog()\n",
    "dog.make_sound()   # We just call make_sound, we don't care *how* it works internally.\n"
   ]
  },
  {
   "cell_type": "markdown",
   "metadata": {},
   "source": [
    "## Inheritance  \n",
    "Inheritance means a class (child class) can inherit properties and methods from another class (parent class).  \n",
    "This reuses code and creates a hierarchy."
   ]
  },
  {
   "cell_type": "code",
   "execution_count": 6,
   "metadata": {},
   "outputs": [
    {
     "name": "stdout",
     "output_type": "stream",
     "text": [
      "Moving...\n",
      "Beep beep!\n"
     ]
    }
   ],
   "source": [
    "class Vehicle:\n",
    "    def move(self):\n",
    "        print(\"Moving...\")\n",
    "\n",
    "class Car(Vehicle):    # Car inherits from Vehicle\n",
    "    def honk(self):\n",
    "        print(\"Beep beep!\")\n",
    "\n",
    "my_car = Car()\n",
    "my_car.move()  # Inherited from Vehicle\n",
    "my_car.honk()  # Own method\n"
   ]
  },
  {
   "cell_type": "markdown",
   "metadata": {},
   "source": [
    "## Polymorphism  \n",
    "Polymorphism means \"one interface, multiple behaviors\".  \n",
    "You can call the same method on different objects and they can behave differently."
   ]
  },
  {
   "cell_type": "code",
   "execution_count": 7,
   "metadata": {},
   "outputs": [
    {
     "name": "stdout",
     "output_type": "stream",
     "text": [
      "Meow!\n",
      "Bark!\n"
     ]
    }
   ],
   "source": [
    "class Cat:\n",
    "    def make_sound(self):\n",
    "        print(\"Meow!\")\n",
    "\n",
    "class Dog:\n",
    "    def make_sound(self):\n",
    "        print(\"Bark!\")\n",
    "\n",
    "def animal_sound(animal):\n",
    "    animal.make_sound()\n",
    "\n",
    "cat = Cat()\n",
    "dog = Dog()\n",
    "\n",
    "animal_sound(cat)  # Meow!\n",
    "animal_sound(dog)  # Bark!\n"
   ]
  }
 ],
 "metadata": {
  "kernelspec": {
   "display_name": "Python 3",
   "language": "python",
   "name": "python3"
  },
  "language_info": {
   "codemirror_mode": {
    "name": "ipython",
    "version": 3
   },
   "file_extension": ".py",
   "mimetype": "text/x-python",
   "name": "python",
   "nbconvert_exporter": "python",
   "pygments_lexer": "ipython3",
   "version": "3.11.9"
  }
 },
 "nbformat": 4,
 "nbformat_minor": 2
}
