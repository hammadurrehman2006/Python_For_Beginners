{
  "nbformat": 4,
  "nbformat_minor": 0,
  "metadata": {
    "colab": {
      "provenance": [],
      "authorship_tag": "ABX9TyPXbx6ldxHhQotLMh+lOn16",
      "include_colab_link": true
    },
    "kernelspec": {
      "name": "python3",
      "display_name": "Python 3"
    },
    "language_info": {
      "name": "python"
    }
  },
  "cells": [
    {
      "cell_type": "markdown",
      "metadata": {
        "id": "view-in-github",
        "colab_type": "text"
      },
      "source": [
        "<a href=\"https://colab.research.google.com/github/hammadurrehman2006/Python_For_Beginners/blob/main/Class-4/main.ipynb\" target=\"_parent\"><img src=\"https://colab.research.google.com/assets/colab-badge.svg\" alt=\"Open In Colab\"/></a>"
      ]
    },
    {
      "cell_type": "code",
      "source": [
        "def divide_numbers(numerator, denominator):\n",
        "    \"\"\"Divides two numbers. Handles the case where denominator is zero.\"\"\"\n",
        "    try:\n",
        "        result = numerator / denominator\n",
        "        return result\n",
        "    except ZeroDivisionError:\n",
        "        return \"Oops! You can't divide by zero!\"\n",
        "\n",
        "# Let's try some examples:\n",
        "print(divide_numbers(10, 2))   # This will work fine! Output: 5.0\n",
        "print(divide_numbers(10, 0))   # This will cause an error BUT we handle it! Output: Oops! You can't divide by zero!\n"
      ],
      "metadata": {
        "id": "GJ7SNBMg3Jgz"
      },
      "execution_count": null,
      "outputs": []
    },
    {
      "cell_type": "code",
      "execution_count": null,
      "metadata": {
        "id": "lhDW-BEP3HsS"
      },
      "outputs": [],
      "source": []
    },
    {
      "cell_type": "markdown",
      "source": [
        "# Formating Strings"
      ],
      "metadata": {
        "id": "_8IOvlMT9rhg"
      }
    },
    {
      "cell_type": "code",
      "source": [
        "name = \"Muhammad Hammad ur Rehman\"  # string\n",
        "age = 18  # integer\n",
        "height = 5.8  # float\n",
        "is_programmer = True  # boolean\n",
        "favorite_color = \"blue\" #string\n",
        "\n",
        "# Using f-strings (Python 3.6+)\n",
        "sentence1 = f\"Hi, I'm {name}, a {age}-year-old programmer who is {height} feet tall and loves the color {favorite_color}!\"\n",
        "print(sentence1)\n",
        "\n",
        "# Using str.format()\n",
        "sentence2 = \"Allow me to introduce myself, I'm {}, a mere {} years young, standing at a towering {} feet, and my coding prowess is undeniable (or so I claim) and my favorite color is {}!\".format(name, age, height, favorite_color)\n",
        "print(sentence2)\n",
        "\n",
        "# Using % operator (older style)\n",
        "sentence3 = \"Greetings, mortals! I am %s, a youthful %d years of age, a measly %f feet tall, and a purveyor of fine code with a preference for the color %s. \" % (name, age, height, favorite_color)\n",
        "print(sentence3)\n",
        "\n",
        "#Example with boolean\n",
        "sentence4 = \"It is %s that I am a programmer\" % is_programmer\n",
        "print(sentence4)\n",
        "\n",
        "#Another Example with boolean using f string\n",
        "sentence5 = f\"Is it true that I am a programmer? {is_programmer}\"\n",
        "sentence5\n"
      ],
      "metadata": {
        "id": "lu8RHhq_9wFX",
        "colab": {
          "base_uri": "https://localhost:8080/",
          "height": 125
        },
        "outputId": "52fb825a-e9e9-476c-9428-9fa5f06a7bcb"
      },
      "execution_count": null,
      "outputs": [
        {
          "output_type": "stream",
          "name": "stdout",
          "text": [
            "Hi, I'm Muhammad Hammad ur Rehman, a 18-year-old programmer who is 5.8 feet tall and loves the color blue!\n",
            "Allow me to introduce myself, I'm Muhammad Hammad ur Rehman, a mere 18 years young, standing at a towering 5.8 feet, and my coding prowess is undeniable (or so I claim) and my favorite color is blue!\n",
            "Greetings, mortals! I am Muhammad Hammad ur Rehman, a youthful 18 years of age, a measly 5.800000 feet tall, and a purveyor of fine code with a preference for the color blue. \n",
            "It is True that I am a programmer\n"
          ]
        },
        {
          "output_type": "execute_result",
          "data": {
            "text/plain": [
              "'Is it true that I am a programmer? True'"
            ],
            "application/vnd.google.colaboratory.intrinsic+json": {
              "type": "string"
            }
          },
          "metadata": {},
          "execution_count": 4
        }
      ]
    },
    {
      "cell_type": "code",
      "source": [
        "#slicing in python\n",
        "# list[start:end:jump]\n",
        "n = [1,2,3,4,5,6,7,8]\n",
        "n[2:5]\n",
        "n[:5]"
      ],
      "metadata": {
        "colab": {
          "base_uri": "https://localhost:8080/"
        },
        "id": "2LmxBp0JClZW",
        "outputId": "92eefcc5-951f-4126-ad4b-843cde18f36c"
      },
      "execution_count": null,
      "outputs": [
        {
          "output_type": "execute_result",
          "data": {
            "text/plain": [
              "[1, 2, 3, 4, 5]"
            ]
          },
          "metadata": {},
          "execution_count": 5
        }
      ]
    }
  ]
}