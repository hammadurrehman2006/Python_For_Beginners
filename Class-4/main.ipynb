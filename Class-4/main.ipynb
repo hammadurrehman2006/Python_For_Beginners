{
  "nbformat": 4,
  "nbformat_minor": 0,
  "metadata": {
    "colab": {
      "provenance": [],
      "authorship_tag": "ABX9TyM1onW7zC4nJMAWyZdAfbPV",
      "include_colab_link": true
    },
    "kernelspec": {
      "name": "python3",
      "display_name": "Python 3"
    },
    "language_info": {
      "name": "python"
    }
  },
  "cells": [
    {
      "cell_type": "markdown",
      "metadata": {
        "id": "view-in-github",
        "colab_type": "text"
      },
      "source": [
        "<a href=\"https://colab.research.google.com/github/hammadurrehman2006/Python_For_Beginners/blob/main/Class-4/main.ipynb\" target=\"_parent\"><img src=\"https://colab.research.google.com/assets/colab-badge.svg\" alt=\"Open In Colab\"/></a>"
      ]
    },
    {
      "cell_type": "markdown",
      "source": [
        "#Try-except"
      ],
      "metadata": {
        "id": "6y_1Fd1gwbpM"
      }
    },
    {
      "cell_type": "code",
      "source": [
        "def divide_numbers(numerator, denominator):\n",
        "    \"\"\"Divides two numbers. Handles the case where denominator is zero.\"\"\"\n",
        "    try:\n",
        "        result = numerator / denominator\n",
        "        return result\n",
        "    except ZeroDivisionError:\n",
        "        return \"Oops! You can't divide by zero!\"\n",
        "\n",
        "# Let's try some examples:\n",
        "print(divide_numbers(10, 2))   # This will work fine! Output: 5.0\n",
        "print(divide_numbers(10, 0))   # This will cause an error BUT we handle it! Output: Oops! You can't divide by zero!\n"
      ],
      "metadata": {
        "id": "GJ7SNBMg3Jgz"
      },
      "execution_count": null,
      "outputs": []
    },
    {
      "cell_type": "markdown",
      "source": [
        "#Short-hand If-else"
      ],
      "metadata": {
        "id": "ve24-dIQwhL6"
      }
    },
    {
      "cell_type": "code",
      "execution_count": null,
      "metadata": {
        "id": "lhDW-BEP3HsS"
      },
      "outputs": [],
      "source": [
        "age = 20\n",
        "\n",
        "# Long way (normal if-else):\n",
        "if age >= 18:\n",
        "    status = \"Adult\"\n",
        "else:\n",
        "    status = \"Young\"\n",
        "print(\"Status (long way):\", status)  # Output: Status (long way): Adult\n",
        "\n",
        "# Shorthand way (one-line if-else):\n",
        "status_shorthand = \"Adult\" if age >= 18 else \"Young\"\n",
        "print(\"Status (shorthand):\", status_shorthand) # Output: Status (shorthand): Adult\n",
        "\n",
        "is_even = \"Yes\" if age % 2 == 0 else \"No\"\n",
        "print(f\"Is {age} an even number? {is_even}\") # Output: Is 20 an even number? Yes"
      ]
    },
    {
      "cell_type": "markdown",
      "source": [
        "#High order functions\n"
      ],
      "metadata": {
        "id": "_8IOvlMT9rhg"
      }
    },
    {
      "cell_type": "code",
      "source": [
        "def square_number(number):\n",
        "    \"\"\"Returns the square of a number.\"\"\"\n",
        "    return number * number\n",
        "\n",
        "numbers = [1, 2, 3, 4, 5]\n",
        "\n",
        "# Use map to apply square_number to each number in the list\n",
        "squared_numbers = map(square_number, numbers)\n",
        "\n",
        "squared_numbers_list = list(squared_numbers)\n",
        "print(\"Original numbers:\", numbers)\n",
        "print(\"Squared numbers using map:\", squared_numbers_list) # Output: [1, 4, 9, 16, 25]"
      ],
      "metadata": {
        "id": "lu8RHhq_9wFX",
        "colab": {
          "base_uri": "https://localhost:8080/"
        },
        "outputId": "dfc83b35-578e-44b6-c730-9f0c14a8e590"
      },
      "execution_count": 2,
      "outputs": [
        {
          "output_type": "stream",
          "name": "stdout",
          "text": [
            "Original numbers: [1, 2, 3, 4, 5]\n",
            "Squared numbers using map: [1, 4, 9, 16, 25]\n"
          ]
        }
      ]
    },
    {
      "cell_type": "code",
      "source": [
        "def is_even(number):\n",
        "    \"\"\"Returns True if a number is even, False otherwise.\"\"\"\n",
        "    return number % 2 == 0\n",
        "\n",
        "numbers = [1, 2, 3, 4, 5, 6]\n",
        "\n",
        "# Use filter to keep only even numbers from the list\n",
        "even_numbers = filter(is_even, numbers)\n",
        "\n",
        "# Convert filter object to a list to see the results\n",
        "even_numbers_list = list(even_numbers)\n",
        "print(\"Original numbers:\", numbers)\n",
        "print(\"Even numbers using filter:\", even_numbers_list) # Output: Even numbers using filter: [2, 4, 6]"
      ],
      "metadata": {
        "colab": {
          "base_uri": "https://localhost:8080/"
        },
        "id": "2LmxBp0JClZW",
        "outputId": "9d1758e4-3c09-4613-fae5-3472a7d46370"
      },
      "execution_count": 3,
      "outputs": [
        {
          "output_type": "stream",
          "name": "stdout",
          "text": [
            "Original numbers: [1, 2, 3, 4, 5, 6]\n",
            "Even numbers using filter: [2, 4, 6]\n"
          ]
        }
      ]
    }
  ]
}