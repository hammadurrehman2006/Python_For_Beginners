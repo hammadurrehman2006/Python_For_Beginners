{
  "nbformat": 4,
  "nbformat_minor": 0,
  "metadata": {
    "colab": {
      "provenance": [],
      "authorship_tag": "ABX9TyNO418DOeMBaqN3VHE4DzRR",
      "include_colab_link": true
    },
    "kernelspec": {
      "name": "python3",
      "display_name": "Python 3"
    },
    "language_info": {
      "name": "python"
    }
  },
  "cells": [
    {
      "cell_type": "markdown",
      "metadata": {
        "id": "view-in-github",
        "colab_type": "text"
      },
      "source": [
        "<a href=\"https://colab.research.google.com/github/hammadurrehman2006/Python_For_Beginners/blob/main/mini_projects/rock_paper_scissor.ipynb\" target=\"_parent\"><img src=\"https://colab.research.google.com/assets/colab-badge.svg\" alt=\"Open In Colab\"/></a>"
      ]
    },
    {
      "cell_type": "code",
      "execution_count": 1,
      "metadata": {
        "id": "WeSjX0ylaNxy"
      },
      "outputs": [],
      "source": [
        "import random"
      ]
    },
    {
      "cell_type": "code",
      "source": [
        "def play():\n",
        "    opponent = random.choice([\"r\",\"p\",\"s\"])\n",
        "    user = input(\"\"\"Enter your choice.\n",
        "                 r for Rock.\n",
        "                 p for Paper.\n",
        "                 s for Scissors. \"\"\")\n",
        "    if user == opponent:\n",
        "        print(\"It's a tie!\")\n",
        "    elif (user == \"r\" and opponent == \"s\") or (user == \"s\" and opponent == \"p\") or (user == \"p\" and opponent == \"r\"):\n",
        "        print(\"You won!\")\n",
        "    else:\n",
        "        print(\"You lose!\")"
      ],
      "metadata": {
        "id": "oIli3LIUaep0"
      },
      "execution_count": 4,
      "outputs": []
    },
    {
      "cell_type": "code",
      "source": [
        "play()"
      ],
      "metadata": {
        "id": "V-X7LGqLaexD"
      },
      "execution_count": null,
      "outputs": []
    }
  ]
}