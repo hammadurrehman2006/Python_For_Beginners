{
  "nbformat": 4,
  "nbformat_minor": 0,
  "metadata": {
    "colab": {
      "provenance": [],
      "authorship_tag": "ABX9TyP8tXbK3vtOXU3DDdCyK1iP",
      "include_colab_link": true
    },
    "kernelspec": {
      "name": "python3",
      "display_name": "Python 3"
    },
    "language_info": {
      "name": "python"
    }
  },
  "cells": [
    {
      "cell_type": "markdown",
      "metadata": {
        "id": "view-in-github",
        "colab_type": "text"
      },
      "source": [
        "<a href=\"https://colab.research.google.com/github/hammadurrehman2006/Python_For_Beginners/blob/main/mini_projects/guess_the_number_user.ipynb\" target=\"_parent\"><img src=\"https://colab.research.google.com/assets/colab-badge.svg\" alt=\"Open In Colab\"/></a>"
      ]
    },
    {
      "cell_type": "code",
      "execution_count": 1,
      "metadata": {
        "id": "94vt5MLyW-8Q"
      },
      "outputs": [],
      "source": [
        "import random"
      ]
    },
    {
      "cell_type": "code",
      "source": [
        "def guess_the_number(x):\n",
        "    num = random.randint(0,x)\n",
        "    while True:\n",
        "        user = int(input(f\"Guess a number between 0 to {x} : \"))\n",
        "        if user > num:\n",
        "            print(\"Too high guess\")\n",
        "        elif user < num:\n",
        "            print(\"Too low guess\")\n",
        "        else:\n",
        "            print(\"Your guess is correct! You Won\")\n",
        "            break"
      ],
      "metadata": {
        "id": "dUVTB3REXZQz"
      },
      "execution_count": 2,
      "outputs": []
    },
    {
      "cell_type": "code",
      "source": [
        "x = int(input(\"Enter a number to set range of guesses: \"))\n",
        "guess_the_number(x)"
      ],
      "metadata": {
        "id": "dSUl7P9KXeH5"
      },
      "execution_count": null,
      "outputs": []
    }
  ]
}