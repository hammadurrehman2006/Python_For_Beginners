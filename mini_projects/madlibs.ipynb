{
  "nbformat": 4,
  "nbformat_minor": 0,
  "metadata": {
    "colab": {
      "provenance": [],
      "authorship_tag": "ABX9TyNlHxLAKYTV8GHOVrjyDliC",
      "include_colab_link": true
    },
    "kernelspec": {
      "name": "python3",
      "display_name": "Python 3"
    },
    "language_info": {
      "name": "python"
    }
  },
  "cells": [
    {
      "cell_type": "markdown",
      "metadata": {
        "id": "view-in-github",
        "colab_type": "text"
      },
      "source": [
        "<a href=\"https://colab.research.google.com/github/hammadurrehman2006/Python_For_Beginners/blob/main/mini_project/madlibs.ipynb\" target=\"_parent\"><img src=\"https://colab.research.google.com/assets/colab-badge.svg\" alt=\"Open In Colab\"/></a>"
      ]
    },
    {
      "cell_type": "code",
      "execution_count": 1,
      "metadata": {
        "colab": {
          "base_uri": "https://localhost:8080/"
        },
        "id": "Q6vUKD44PSxh",
        "outputId": "5d25cc59-1df6-41a5-805f-b1f4031e8bbc"
      },
      "outputs": [
        {
          "name": "stdout",
          "output_type": "stream",
          "text": [
            "Adjective: delicous\n",
            "Verb: run\n",
            "Verb: sleep\n",
            "Famous person: Shehbaaz Sharif\n"
          ]
        }
      ],
      "source": [
        "adj = input(\"Adjective: \")\n",
        "verb1 = input(\"Verb: \")\n",
        "verb2 = input(\"Verb: \")\n",
        "famous_person = input(\"Famous person: \")"
      ]
    },
    {
      "cell_type": "code",
      "source": [
        "madlib = f\"\"\"Exploring the world of science is so {adj}!\n",
        "It fills me with awe every day because \\\n",
        "I get to {verb1} new ideas. Stay curious and {verb2}\n",
        "like you're {famous_person} on a mission to change the universe!\"\"\"\n",
        "print(madlib)"
      ],
      "metadata": {
        "colab": {
          "base_uri": "https://localhost:8080/"
        },
        "id": "qm-a3zdaPlP3",
        "outputId": "6fa7c885-b432-4b76-b252-adf9ff707fa7"
      },
      "execution_count": 3,
      "outputs": [
        {
          "output_type": "stream",
          "name": "stdout",
          "text": [
            "Exploring the world of science is so delicous!\n",
            "It fills me with awe every day because I get to run new ideas. Stay curious and sleep\n",
            "like you're Shehbaaz Sharif on a mission to change the universe!\n"
          ]
        }
      ]
    }
  ]
}